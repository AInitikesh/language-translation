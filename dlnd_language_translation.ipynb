{
 "cells": [
  {
   "cell_type": "markdown",
   "metadata": {
    "collapsed": true
   },
   "source": [
    "# Language Translation\n",
    "In this project, you’re going to take a peek into the realm of neural network machine translation.  You’ll be training a sequence to sequence model on a dataset of English and French sentences that can translate new sentences from English to French.\n",
    "## Get the Data\n",
    "Since translating the whole language of English to French will take lots of time to train, we have provided you with a small portion of the English corpus."
   ]
  },
  {
   "cell_type": "code",
   "execution_count": 1,
   "metadata": {
    "collapsed": true
   },
   "outputs": [],
   "source": [
    "\"\"\"\n",
    "DON'T MODIFY ANYTHING IN THIS CELL\n",
    "\"\"\"\n",
    "import helper\n",
    "import problem_unittests as tests\n",
    "\n",
    "source_path = 'data/small_vocab_en'\n",
    "target_path = 'data/small_vocab_fr'\n",
    "source_text = helper.load_data(source_path)\n",
    "target_text = helper.load_data(target_path)"
   ]
  },
  {
   "cell_type": "markdown",
   "metadata": {},
   "source": [
    "## Explore the Data\n",
    "Play around with view_sentence_range to view different parts of the data."
   ]
  },
  {
   "cell_type": "code",
   "execution_count": 2,
   "metadata": {},
   "outputs": [
    {
     "name": "stdout",
     "output_type": "stream",
     "text": [
      "Dataset Stats\n",
      "Roughly the number of unique words: 227\n",
      "Number of sentences: 137861\n",
      "Average number of words in a sentence: 13.225277634719028\n",
      "\n",
      "English sentences 0 to 10:\n",
      "new jersey is sometimes quiet during autumn , and it is snowy in april .\n",
      "the united states is usually chilly during july , and it is usually freezing in november .\n",
      "california is usually quiet during march , and it is usually hot in june .\n",
      "the united states is sometimes mild during june , and it is cold in september .\n",
      "your least liked fruit is the grape , but my least liked is the apple .\n",
      "his favorite fruit is the orange , but my favorite is the grape .\n",
      "paris is relaxing during december , but it is usually chilly in july .\n",
      "new jersey is busy during spring , and it is never hot in march .\n",
      "our least liked fruit is the lemon , but my least liked is the grape .\n",
      "the united states is sometimes busy during january , and it is sometimes warm in november .\n",
      "\n",
      "French sentences 0 to 10:\n",
      "new jersey est parfois calme pendant l' automne , et il est neigeux en avril .\n",
      "les états-unis est généralement froid en juillet , et il gèle habituellement en novembre .\n",
      "california est généralement calme en mars , et il est généralement chaud en juin .\n",
      "les états-unis est parfois légère en juin , et il fait froid en septembre .\n",
      "votre moins aimé fruit est le raisin , mais mon moins aimé est la pomme .\n",
      "son fruit préféré est l'orange , mais mon préféré est le raisin .\n",
      "paris est relaxant en décembre , mais il est généralement froid en juillet .\n",
      "new jersey est occupé au printemps , et il est jamais chaude en mars .\n",
      "notre fruit est moins aimé le citron , mais mon moins aimé est le raisin .\n",
      "les états-unis est parfois occupé en janvier , et il est parfois chaud en novembre .\n"
     ]
    }
   ],
   "source": [
    "view_sentence_range = (0, 10)\n",
    "\n",
    "\"\"\"\n",
    "DON'T MODIFY ANYTHING IN THIS CELL\n",
    "\"\"\"\n",
    "import numpy as np\n",
    "\n",
    "print('Dataset Stats')\n",
    "print('Roughly the number of unique words: {}'.format(len({word: None for word in source_text.split()})))\n",
    "\n",
    "sentences = source_text.split('\\n')\n",
    "word_counts = [len(sentence.split()) for sentence in sentences]\n",
    "print('Number of sentences: {}'.format(len(sentences)))\n",
    "print('Average number of words in a sentence: {}'.format(np.average(word_counts)))\n",
    "\n",
    "print()\n",
    "print('English sentences {} to {}:'.format(*view_sentence_range))\n",
    "print('\\n'.join(source_text.split('\\n')[view_sentence_range[0]:view_sentence_range[1]]))\n",
    "print()\n",
    "print('French sentences {} to {}:'.format(*view_sentence_range))\n",
    "print('\\n'.join(target_text.split('\\n')[view_sentence_range[0]:view_sentence_range[1]]))"
   ]
  },
  {
   "cell_type": "markdown",
   "metadata": {},
   "source": [
    "## Implement Preprocessing Function\n",
    "### Text to Word Ids\n",
    "As you did with other RNNs, you must turn the text into a number so the computer can understand it. In the function `text_to_ids()`, you'll turn `source_text` and `target_text` from words to ids.  However, you need to add the `<EOS>` word id at the end of `target_text`.  This will help the neural network predict when the sentence should end.\n",
    "\n",
    "You can get the `<EOS>` word id by doing:\n",
    "```python\n",
    "target_vocab_to_int['<EOS>']\n",
    "```\n",
    "You can get other word ids using `source_vocab_to_int` and `target_vocab_to_int`."
   ]
  },
  {
   "cell_type": "code",
   "execution_count": 3,
   "metadata": {},
   "outputs": [
    {
     "name": "stdout",
     "output_type": "stream",
     "text": [
      "Tests Passed\n"
     ]
    }
   ],
   "source": [
    "def text_to_ids(source_text, target_text, source_vocab_to_int, target_vocab_to_int):\n",
    "    \"\"\"\n",
    "    Convert source and target text to proper word ids\n",
    "    :param source_text: String that contains all the source text.\n",
    "    :param target_text: String that contains all the target text.\n",
    "    :param source_vocab_to_int: Dictionary to go from the source words to an id\n",
    "    :param target_vocab_to_int: Dictionary to go from the target words to an id\n",
    "    :return: A tuple of lists (source_id_text, target_id_text)\n",
    "    \"\"\"\n",
    "    # TODO: Implement Function\n",
    "    source_sentences = source_text.split(\"\\n\")\n",
    "    source_id_text = list()\n",
    "    for sentence in source_sentences:\n",
    "        source_id_word = [source_vocab_to_int[word] for word in sentence.split()]\n",
    "        source_id_text.append(source_id_word)\n",
    "        \n",
    "        \n",
    "    target_sentences = target_text.split(\"\\n\")\n",
    "    target_id_text = list()\n",
    "    for sentence in target_sentences:\n",
    "        target_id_word = [target_vocab_to_int[word] for word in sentence.split()]\n",
    "        target_id_word.append(target_vocab_to_int['<EOS>'])\n",
    "        target_id_text.append(target_id_word)\n",
    "    \n",
    "    \n",
    "    return source_id_text, target_id_text\n",
    "\n",
    "\"\"\"\n",
    "DON'T MODIFY ANYTHING IN THIS CELL THAT IS BELOW THIS LINE\n",
    "\"\"\"\n",
    "tests.test_text_to_ids(text_to_ids)"
   ]
  },
  {
   "cell_type": "markdown",
   "metadata": {},
   "source": [
    "### Preprocess all the data and save it\n",
    "Running the code cell below will preprocess all the data and save it to file."
   ]
  },
  {
   "cell_type": "code",
   "execution_count": 4,
   "metadata": {},
   "outputs": [],
   "source": [
    "\"\"\"\n",
    "DON'T MODIFY ANYTHING IN THIS CELL\n",
    "\"\"\"\n",
    "helper.preprocess_and_save_data(source_path, target_path, text_to_ids)"
   ]
  },
  {
   "cell_type": "markdown",
   "metadata": {},
   "source": [
    "# Check Point\n",
    "This is your first checkpoint. If you ever decide to come back to this notebook or have to restart the notebook, you can start from here. The preprocessed data has been saved to disk."
   ]
  },
  {
   "cell_type": "code",
   "execution_count": 5,
   "metadata": {
    "collapsed": true
   },
   "outputs": [],
   "source": [
    "\"\"\"\n",
    "DON'T MODIFY ANYTHING IN THIS CELL\n",
    "\"\"\"\n",
    "import numpy as np\n",
    "import helper\n",
    "\n",
    "(source_int_text, target_int_text), (source_vocab_to_int, target_vocab_to_int), _ = helper.load_preprocess()"
   ]
  },
  {
   "cell_type": "markdown",
   "metadata": {},
   "source": [
    "### Check the Version of TensorFlow and Access to GPU\n",
    "This will check to make sure you have the correct version of TensorFlow and access to a GPU"
   ]
  },
  {
   "cell_type": "code",
   "execution_count": 6,
   "metadata": {},
   "outputs": [
    {
     "name": "stdout",
     "output_type": "stream",
     "text": [
      "TensorFlow Version: 1.1.0\n"
     ]
    },
    {
     "name": "stderr",
     "output_type": "stream",
     "text": [
      "/Users/nbhad/anaconda/envs/language-translation/lib/python3.6/site-packages/ipykernel_launcher.py:15: UserWarning: No GPU found. Please use a GPU to train your neural network.\n",
      "  from ipykernel import kernelapp as app\n"
     ]
    }
   ],
   "source": [
    "\"\"\"\n",
    "DON'T MODIFY ANYTHING IN THIS CELL\n",
    "\"\"\"\n",
    "from distutils.version import LooseVersion\n",
    "import warnings\n",
    "import tensorflow as tf\n",
    "from tensorflow.python.layers.core import Dense\n",
    "\n",
    "# Check TensorFlow Version\n",
    "assert LooseVersion(tf.__version__) >= LooseVersion('1.1'), 'Please use TensorFlow version 1.1 or newer'\n",
    "print('TensorFlow Version: {}'.format(tf.__version__))\n",
    "\n",
    "# Check for a GPU\n",
    "if not tf.test.gpu_device_name():\n",
    "    warnings.warn('No GPU found. Please use a GPU to train your neural network.')\n",
    "else:\n",
    "    print('Default GPU Device: {}'.format(tf.test.gpu_device_name()))"
   ]
  },
  {
   "cell_type": "markdown",
   "metadata": {},
   "source": [
    "## Build the Neural Network\n",
    "You'll build the components necessary to build a Sequence-to-Sequence model by implementing the following functions below:\n",
    "- `model_inputs`\n",
    "- `process_decoder_input`\n",
    "- `encoding_layer`\n",
    "- `decoding_layer_train`\n",
    "- `decoding_layer_infer`\n",
    "- `decoding_layer`\n",
    "- `seq2seq_model`\n",
    "\n",
    "### Input\n",
    "Implement the `model_inputs()` function to create TF Placeholders for the Neural Network. It should create the following placeholders:\n",
    "\n",
    "- Input text placeholder named \"input\" using the TF Placeholder name parameter with rank 2.\n",
    "- Targets placeholder with rank 2.\n",
    "- Learning rate placeholder with rank 0.\n",
    "- Keep probability placeholder named \"keep_prob\" using the TF Placeholder name parameter with rank 0.\n",
    "- Target sequence length placeholder named \"target_sequence_length\" with rank 1\n",
    "- Max target sequence length tensor named \"max_target_len\" getting its value from applying tf.reduce_max on the target_sequence_length placeholder. Rank 0.\n",
    "- Source sequence length placeholder named \"source_sequence_length\" with rank 1\n",
    "\n",
    "Return the placeholders in the following the tuple (input, targets, learning rate, keep probability, target sequence length, max target sequence length, source sequence length)"
   ]
  },
  {
   "cell_type": "code",
   "execution_count": 50,
   "metadata": {},
   "outputs": [
    {
     "name": "stdout",
     "output_type": "stream",
     "text": [
      "Tests Passed\n"
     ]
    }
   ],
   "source": [
    "def model_inputs():\n",
    "    \"\"\"\n",
    "    Create TF Placeholders for input, targets, learning rate, and lengths of source and target sequences.\n",
    "    :return: Tuple (input, targets, learning rate, keep probability, target sequence length,\n",
    "    max target sequence length, source sequence length)\n",
    "    \"\"\"\n",
    "    # TODO: Implement Function\n",
    "    input_data = tf.placeholder(tf.int32, [None, None] , name=\"input\")\n",
    "    targets = tf.placeholder(tf.int32, [None, None], name='targets')\n",
    "    learning_rate = tf.placeholder(tf.float32)\n",
    "    keep_probability = tf.placeholder(tf.float32, name=\"keep_prob\")\n",
    "    target_sequence_length = tf.placeholder(tf.int32, [None] , name=\"target_sequence_length\")\n",
    "    max_target_sequence_length = tf.reduce_max(target_sequence_length, name='max_target_len')\n",
    "    source_sequence_length = tf.placeholder(tf.int32, [None] , name=\"source_sequence_length\")\n",
    "    return input_data, targets, learning_rate, keep_probability, target_sequence_length, max_target_sequence_length, source_sequence_length\n",
    "\n",
    "\n",
    "\"\"\"\n",
    "DON'T MODIFY ANYTHING IN THIS CELL THAT IS BELOW THIS LINE\n",
    "\"\"\"\n",
    "tests.test_model_inputs(model_inputs)"
   ]
  },
  {
   "cell_type": "markdown",
   "metadata": {},
   "source": [
    "### Process Decoder Input\n",
    "Implement `process_decoder_input` by removing the last word id from each batch in `target_data` and concat the GO ID to the begining of each batch."
   ]
  },
  {
   "cell_type": "code",
   "execution_count": 51,
   "metadata": {},
   "outputs": [
    {
     "name": "stdout",
     "output_type": "stream",
     "text": [
      "Tests Passed\n"
     ]
    }
   ],
   "source": [
    "def process_decoder_input(target_data, target_vocab_to_int, batch_size):\n",
    "    \"\"\"\n",
    "    Preprocess target data for encoding\n",
    "    :param target_data: Target Placehoder\n",
    "    :param target_vocab_to_int: Dictionary to go from the target words to an id\n",
    "    :param batch_size: Batch Size\n",
    "    :return: Preprocessed target data\n",
    "    \"\"\"\n",
    "    # TODO: Implement Function\n",
    "    ending = tf.strided_slice(target_data, [0, 0], [batch_size, -1], [1, 1])\n",
    "    dec_input = tf.concat([tf.fill([batch_size, 1], target_vocab_to_int['<GO>']), ending], 1)\n",
    "    return dec_input\n",
    "\n",
    "\"\"\"\n",
    "DON'T MODIFY ANYTHING IN THIS CELL THAT IS BELOW THIS LINE\n",
    "\"\"\"\n",
    "tests.test_process_encoding_input(process_decoder_input)"
   ]
  },
  {
   "cell_type": "markdown",
   "metadata": {},
   "source": [
    "### Encoding\n",
    "Implement `encoding_layer()` to create a Encoder RNN layer:\n",
    " * Embed the encoder input using [`tf.contrib.layers.embed_sequence`](https://www.tensorflow.org/api_docs/python/tf/contrib/layers/embed_sequence)\n",
    " * Construct a [stacked](https://github.com/tensorflow/tensorflow/blob/6947f65a374ebf29e74bb71e36fd82760056d82c/tensorflow/docs_src/tutorials/recurrent.md#stacking-multiple-lstms) [`tf.contrib.rnn.LSTMCell`](https://www.tensorflow.org/api_docs/python/tf/contrib/rnn/LSTMCell) wrapped in a [`tf.contrib.rnn.DropoutWrapper`](https://www.tensorflow.org/api_docs/python/tf/contrib/rnn/DropoutWrapper)\n",
    " * Pass cell and embedded input to [`tf.nn.dynamic_rnn()`](https://www.tensorflow.org/api_docs/python/tf/nn/dynamic_rnn)"
   ]
  },
  {
   "cell_type": "code",
   "execution_count": 52,
   "metadata": {
    "scrolled": false
   },
   "outputs": [
    {
     "name": "stdout",
     "output_type": "stream",
     "text": [
      "Tests Passed\n"
     ]
    }
   ],
   "source": [
    "from imp import reload\n",
    "reload(tests)\n",
    "\n",
    "def encoding_layer(rnn_inputs, rnn_size, num_layers, keep_prob, \n",
    "                   source_sequence_length, source_vocab_size, \n",
    "                   encoding_embedding_size):\n",
    "    \"\"\"\n",
    "    Create encoding layer\n",
    "    :param rnn_inputs: Inputs for the RNN\n",
    "    :param rnn_size: RNN Size\n",
    "    :param num_layers: Number of layers\n",
    "    :param keep_prob: Dropout keep probability\n",
    "    :param source_sequence_length: a list of the lengths of each sequence in the batch\n",
    "    :param source_vocab_size: vocabulary size of source data\n",
    "    :param encoding_embedding_size: embedding size of source data\n",
    "    :return: tuple (RNN output, RNN state)\n",
    "    \"\"\"\n",
    "    # TODO: Implement Function\n",
    "    #Encoder embedding\n",
    "    enc_embed_input = tf.contrib.layers.embed_sequence(rnn_inputs, source_vocab_size, encoding_embedding_size)\n",
    "    \n",
    "    # RNN cell\n",
    "    def make_cell(rnn_size):\n",
    "        enc_cell = tf.contrib.rnn.LSTMCell(rnn_size, initializer=tf.random_uniform_initializer(-0.1, 0.1, seed=2))\n",
    "        return enc_cell\n",
    "    \n",
    "    enc_cell = tf.contrib.rnn.MultiRNNCell([make_cell(rnn_size) for _ in range(num_layers)])\n",
    "    enc_output, enc_state = tf.nn.dynamic_rnn(enc_cell, enc_embed_input, sequence_length=source_sequence_length, dtype=tf.float32)\n",
    "    \n",
    "    return enc_output, enc_state\n",
    "\n",
    "\"\"\"\n",
    "DON'T MODIFY ANYTHING IN THIS CELL THAT IS BELOW THIS LINE\n",
    "\"\"\"\n",
    "tests.test_encoding_layer(encoding_layer)"
   ]
  },
  {
   "cell_type": "markdown",
   "metadata": {},
   "source": [
    "### Decoding - Training\n",
    "Create a training decoding layer:\n",
    "* Create a [`tf.contrib.seq2seq.TrainingHelper`](https://www.tensorflow.org/api_docs/python/tf/contrib/seq2seq/TrainingHelper) \n",
    "* Create a [`tf.contrib.seq2seq.BasicDecoder`](https://www.tensorflow.org/api_docs/python/tf/contrib/seq2seq/BasicDecoder)\n",
    "* Obtain the decoder outputs from [`tf.contrib.seq2seq.dynamic_decode`](https://www.tensorflow.org/api_docs/python/tf/contrib/seq2seq/dynamic_decode)"
   ]
  },
  {
   "cell_type": "code",
   "execution_count": 53,
   "metadata": {},
   "outputs": [
    {
     "name": "stdout",
     "output_type": "stream",
     "text": [
      "Tests Passed\n"
     ]
    }
   ],
   "source": [
    "\n",
    "def decoding_layer_train(encoder_state, dec_cell, dec_embed_input, \n",
    "                         target_sequence_length, max_summary_length, \n",
    "                         output_layer, keep_prob):\n",
    "    \"\"\"\n",
    "    Create a decoding layer for training\n",
    "    :param encoder_state: Encoder State\n",
    "    :param dec_cell: Decoder RNN Cell\n",
    "    :param dec_embed_input: Decoder embedded input\n",
    "    :param target_sequence_length: The lengths of each sequence in the target batch\n",
    "    :param max_summary_length: The length of the longest sequence in the batch\n",
    "    :param output_layer: Function to apply the output layer\n",
    "    :param keep_prob: Dropout keep probability\n",
    "    :return: BasicDecoderOutput containing training logits and sample_id\n",
    "    \"\"\"\n",
    "    # TODO: Implement Function\n",
    "    training_helper = tf.contrib.seq2seq.TrainingHelper(inputs=dec_embed_input,\n",
    "                                                       sequence_length=target_sequence_length,\n",
    "                                                        time_major=False)\n",
    "    training_decoder = tf.contrib.seq2seq.BasicDecoder(dec_cell,\n",
    "                                                      training_helper,\n",
    "                                                      encoder_state,\n",
    "                                                      output_layer)\n",
    "    training_decoder_output, _ = tf.contrib.seq2seq.dynamic_decode(training_decoder,\n",
    "                                                                  impute_finished=True,\n",
    "                                                                  maximum_iterations=max_summary_length)\n",
    "    \n",
    "    return training_decoder_output\n",
    "\n",
    "\n",
    "\n",
    "\"\"\"\n",
    "DON'T MODIFY ANYTHING IN THIS CELL THAT IS BELOW THIS LINE\n",
    "\"\"\"\n",
    "tests.test_decoding_layer_train(decoding_layer_train)"
   ]
  },
  {
   "cell_type": "markdown",
   "metadata": {},
   "source": [
    "### Decoding - Inference\n",
    "Create inference decoder:\n",
    "* Create a [`tf.contrib.seq2seq.GreedyEmbeddingHelper`](https://www.tensorflow.org/api_docs/python/tf/contrib/seq2seq/GreedyEmbeddingHelper)\n",
    "* Create a [`tf.contrib.seq2seq.BasicDecoder`](https://www.tensorflow.org/api_docs/python/tf/contrib/seq2seq/BasicDecoder)\n",
    "* Obtain the decoder outputs from [`tf.contrib.seq2seq.dynamic_decode`](https://www.tensorflow.org/api_docs/python/tf/contrib/seq2seq/dynamic_decode)"
   ]
  },
  {
   "cell_type": "code",
   "execution_count": 54,
   "metadata": {
    "scrolled": true
   },
   "outputs": [
    {
     "name": "stdout",
     "output_type": "stream",
     "text": [
      "Tests Passed\n"
     ]
    }
   ],
   "source": [
    "def decoding_layer_infer(encoder_state, dec_cell, dec_embeddings, start_of_sequence_id,\n",
    "                         end_of_sequence_id, max_target_sequence_length,\n",
    "                         vocab_size, output_layer, batch_size, keep_prob):\n",
    "    \"\"\"\n",
    "    Create a decoding layer for inference\n",
    "    :param encoder_state: Encoder state\n",
    "    :param dec_cell: Decoder RNN Cell\n",
    "    :param dec_embeddings: Decoder embeddings\n",
    "    :param start_of_sequence_id: GO ID\n",
    "    :param end_of_sequence_id: EOS Id\n",
    "    :param max_target_sequence_length: Maximum length of target sequences\n",
    "    :param vocab_size: Size of decoder/target vocabulary\n",
    "    :param decoding_scope: TenorFlow Variable Scope for decoding\n",
    "    :param output_layer: Function to apply the output layer\n",
    "    :param batch_size: Batch size\n",
    "    :param keep_prob: Dropout keep probability\n",
    "    :return: BasicDecoderOutput containing inference logits and sample_id\n",
    "    \"\"\"\n",
    "    # TODO: Implement Function\n",
    "    \n",
    "    start_tokens = tf.tile(tf.constant([start_of_sequence_id], dtype=tf.int32), [batch_size], name='start_tokens')\n",
    "    \n",
    "    inference_helper = tf.contrib.seq2seq.GreedyEmbeddingHelper(dec_embeddings,\n",
    "                                                               start_tokens,\n",
    "                                                               end_of_sequence_id)\n",
    "    \n",
    "    inference_decoder = tf.contrib.seq2seq.BasicDecoder(dec_cell,\n",
    "                                                       inference_helper,\n",
    "                                                       encoder_state,\n",
    "                                                       output_layer)\n",
    "    \n",
    "    inference_decoder_output, _ = tf.contrib.seq2seq.dynamic_decode(inference_decoder,\n",
    "                                                                   impute_finished=True,\n",
    "                                                                   maximum_iterations=max_target_sequence_length)\n",
    "    \n",
    "    \n",
    "    return inference_decoder_output\n",
    "\n",
    "\n",
    "\n",
    "\"\"\"\n",
    "DON'T MODIFY ANYTHING IN THIS CELL THAT IS BELOW THIS LINE\n",
    "\"\"\"\n",
    "tests.test_decoding_layer_infer(decoding_layer_infer)"
   ]
  },
  {
   "cell_type": "markdown",
   "metadata": {},
   "source": [
    "### Build the Decoding Layer\n",
    "Implement `decoding_layer()` to create a Decoder RNN layer.\n",
    "\n",
    "* Embed the target sequences\n",
    "* Construct the decoder LSTM cell (just like you constructed the encoder cell above)\n",
    "* Create an output layer to map the outputs of the decoder to the elements of our vocabulary\n",
    "* Use the your `decoding_layer_train(encoder_state, dec_cell, dec_embed_input, target_sequence_length, max_target_sequence_length, output_layer, keep_prob)` function to get the training logits.\n",
    "* Use your `decoding_layer_infer(encoder_state, dec_cell, dec_embeddings, start_of_sequence_id, end_of_sequence_id, max_target_sequence_length, vocab_size, output_layer, batch_size, keep_prob)` function to get the inference logits.\n",
    "\n",
    "Note: You'll need to use [tf.variable_scope](https://www.tensorflow.org/api_docs/python/tf/variable_scope) to share variables between training and inference."
   ]
  },
  {
   "cell_type": "code",
   "execution_count": 55,
   "metadata": {},
   "outputs": [
    {
     "name": "stdout",
     "output_type": "stream",
     "text": [
      "Tests Passed\n"
     ]
    }
   ],
   "source": [
    "def decoding_layer(dec_input, encoder_state,\n",
    "                   target_sequence_length, max_target_sequence_length,\n",
    "                   rnn_size,\n",
    "                   num_layers, target_vocab_to_int, target_vocab_size,\n",
    "                   batch_size, keep_prob, decoding_embedding_size):\n",
    "    \"\"\"\n",
    "    Create decoding layer\n",
    "    :param dec_input: Decoder input\n",
    "    :param encoder_state: Encoder state\n",
    "    :param target_sequence_length: The lengths of each sequence in the target batch\n",
    "    :param max_target_sequence_length: Maximum length of target sequences\n",
    "    :param rnn_size: RNN Size\n",
    "    :param num_layers: Number of layers\n",
    "    :param target_vocab_to_int: Dictionary to go from the target words to an id\n",
    "    :param target_vocab_size: Size of target vocabulary\n",
    "    :param batch_size: The size of the batch\n",
    "    :param keep_prob: Dropout keep probability\n",
    "    :return: Tuple of (Training BasicDecoderOutput, Inference BasicDecoderOutput)\n",
    "    \"\"\"\n",
    "    # TODO: Implement Function\n",
    "    \n",
    "    #Embed the target sequences\n",
    "    dec_embeddings = tf.Variable(tf.random_uniform([target_vocab_size, decoding_embedding_size]))\n",
    "    dec_embed_input = tf.nn.embedding_lookup(dec_embeddings, dec_input)\n",
    "    \n",
    "    #Construct the decoder LSTM cell\n",
    "    def make_cell(rnn_size):\n",
    "        dec_cell = tf.contrib.rnn.LSTMCell(rnn_size,\n",
    "                                          initializer=tf.random_uniform_initializer(-0.1, 0.1, seed=2))\n",
    "        return dec_cell\n",
    "    \n",
    "    dec_cell = tf.contrib.rnn.MultiRNNCell([make_cell(rnn_size) for _ in range(num_layers)])\n",
    "    \n",
    "    #Create an output layer to map the outputs of the decoder to the elements of our vocabulary\n",
    "    output_layer = Dense(target_vocab_size,\n",
    "                        kernel_initializer = tf.truncated_normal_initializer(mean = 0.0, stddev=0.1))\n",
    "    \n",
    "    \n",
    "    #Training Logits\n",
    "    with tf.variable_scope(\"decode\"):\n",
    "        training_decoder_output = decoding_layer_train(encoder_state, dec_cell, dec_embed_input, target_sequence_length, max_target_sequence_length, output_layer, keep_prob)\n",
    "    \n",
    "    #Inference Logits.\n",
    "    with tf.variable_scope(\"decode\", reuse=True):\n",
    "        start_of_sequence_id = target_vocab_to_int['<GO>']\n",
    "        end_of_sequence_id = target_vocab_to_int['<EOS>']\n",
    "        inference_decoder_output = decoding_layer_infer(encoder_state, dec_cell, dec_embeddings, start_of_sequence_id, end_of_sequence_id, max_target_sequence_length, target_vocab_size, output_layer, batch_size, keep_prob)\n",
    "    \n",
    "    return training_decoder_output, inference_decoder_output\n",
    "\n",
    "\n",
    "\n",
    "\"\"\"\n",
    "DON'T MODIFY ANYTHING IN THIS CELL THAT IS BELOW THIS LINE\n",
    "\"\"\"\n",
    "tests.test_decoding_layer(decoding_layer)"
   ]
  },
  {
   "cell_type": "markdown",
   "metadata": {},
   "source": [
    "### Build the Neural Network\n",
    "Apply the functions you implemented above to:\n",
    "\n",
    "- Apply embedding to the input data for the encoder.\n",
    "- Encode the input using your `encoding_layer(rnn_inputs, rnn_size, num_layers, keep_prob,  source_sequence_length, source_vocab_size, encoding_embedding_size)`.\n",
    "- Process target data using your `process_decoder_input(target_data, target_vocab_to_int, batch_size)` function.\n",
    "- Apply embedding to the target data for the decoder.\n",
    "- Decode the encoded input using your `decoding_layer(dec_input, enc_state, target_sequence_length, max_target_sentence_length, rnn_size, num_layers, target_vocab_to_int, target_vocab_size, batch_size, keep_prob, dec_embedding_size)` function."
   ]
  },
  {
   "cell_type": "code",
   "execution_count": 57,
   "metadata": {},
   "outputs": [
    {
     "name": "stdout",
     "output_type": "stream",
     "text": [
      "Tests Passed\n"
     ]
    }
   ],
   "source": [
    "def seq2seq_model(input_data, target_data, keep_prob, batch_size,\n",
    "                  source_sequence_length, target_sequence_length,\n",
    "                  max_target_sentence_length,\n",
    "                  source_vocab_size, target_vocab_size,\n",
    "                  enc_embedding_size, dec_embedding_size,\n",
    "                  rnn_size, num_layers, target_vocab_to_int):\n",
    "    \"\"\"\n",
    "    Build the Sequence-to-Sequence part of the neural network\n",
    "    :param input_data: Input placeholder\n",
    "    :param target_data: Target placeholder\n",
    "    :param keep_prob: Dropout keep probability placeholder\n",
    "    :param batch_size: Batch Size\n",
    "    :param source_sequence_length: Sequence Lengths of source sequences in the batch\n",
    "    :param target_sequence_length: Sequence Lengths of target sequences in the batch\n",
    "    :param source_vocab_size: Source vocabulary size\n",
    "    :param target_vocab_size: Target vocabulary size\n",
    "    :param enc_embedding_size: Decoder embedding size\n",
    "    :param dec_embedding_size: Encoder embedding size\n",
    "    :param rnn_size: RNN Size\n",
    "    :param num_layers: Number of layers\n",
    "    :param target_vocab_to_int: Dictionary to go from the target words to an id\n",
    "    :return: Tuple of (Training BasicDecoderOutput, Inference BasicDecoderOutput)\n",
    "    \"\"\"\n",
    "    # TODO: Implement Function\n",
    "    \n",
    "    \n",
    "    \n",
    "    #Encode the input.\n",
    "    _, enc_state = encoding_layer(input_data, rnn_size, num_layers, keep_prob,  source_sequence_length, source_vocab_size, enc_embedding_size)\n",
    "    \n",
    "    #Process target data\n",
    "    dec_input = process_decoder_input(target_data, target_vocab_to_int, batch_size)\n",
    "    \n",
    "    \n",
    "    #Decode the encoded input\n",
    "    training_decoder_output, inference_decoder_output = decoding_layer(dec_input, enc_state, target_sequence_length, max_target_sentence_length, rnn_size, num_layers, target_vocab_to_int, target_vocab_size, batch_size, keep_prob, dec_embedding_size)\n",
    "                                  \n",
    "    \n",
    "    return training_decoder_output, inference_decoder_output\n",
    "\n",
    "\n",
    "\"\"\"\n",
    "DON'T MODIFY ANYTHING IN THIS CELL THAT IS BELOW THIS LINE\n",
    "\"\"\"\n",
    "tests.test_seq2seq_model(seq2seq_model)"
   ]
  },
  {
   "cell_type": "markdown",
   "metadata": {},
   "source": [
    "## Neural Network Training\n",
    "### Hyperparameters\n",
    "Tune the following parameters:\n",
    "\n",
    "- Set `epochs` to the number of epochs.\n",
    "- Set `batch_size` to the batch size.\n",
    "- Set `rnn_size` to the size of the RNNs.\n",
    "- Set `num_layers` to the number of layers.\n",
    "- Set `encoding_embedding_size` to the size of the embedding for the encoder.\n",
    "- Set `decoding_embedding_size` to the size of the embedding for the decoder.\n",
    "- Set `learning_rate` to the learning rate.\n",
    "- Set `keep_probability` to the Dropout keep probability\n",
    "- Set `display_step` to state how many steps between each debug output statement"
   ]
  },
  {
   "cell_type": "code",
   "execution_count": 58,
   "metadata": {
    "collapsed": true
   },
   "outputs": [],
   "source": [
    "# Number of Epochs\n",
    "epochs = 60\n",
    "# Batch Size\n",
    "batch_size = 128\n",
    "# RNN Size\n",
    "rnn_size = 50\n",
    "# Number of Layers\n",
    "num_layers = 2\n",
    "# Embedding Size\n",
    "encoding_embedding_size = 15\n",
    "decoding_embedding_size = 15\n",
    "# Learning Rate\n",
    "learning_rate = 0.001\n",
    "# Dropout Keep Probability\n",
    "keep_probability = 0.5\n",
    "display_step = 10"
   ]
  },
  {
   "cell_type": "markdown",
   "metadata": {},
   "source": [
    "### Build the Graph\n",
    "Build the graph using the neural network you implemented."
   ]
  },
  {
   "cell_type": "code",
   "execution_count": 59,
   "metadata": {},
   "outputs": [],
   "source": [
    "\"\"\"\n",
    "DON'T MODIFY ANYTHING IN THIS CELL\n",
    "\"\"\"\n",
    "save_path = 'checkpoints/dev'\n",
    "(source_int_text, target_int_text), (source_vocab_to_int, target_vocab_to_int), _ = helper.load_preprocess()\n",
    "max_target_sentence_length = max([len(sentence) for sentence in source_int_text])\n",
    "\n",
    "train_graph = tf.Graph()\n",
    "with train_graph.as_default():\n",
    "    input_data, targets, lr, keep_prob, target_sequence_length, max_target_sequence_length, source_sequence_length = model_inputs()\n",
    "\n",
    "    #sequence_length = tf.placeholder_with_default(max_target_sentence_length, None, name='sequence_length')\n",
    "    input_shape = tf.shape(input_data)\n",
    "\n",
    "    train_logits, inference_logits = seq2seq_model(tf.reverse(input_data, [-1]),\n",
    "                                                   targets,\n",
    "                                                   keep_prob,\n",
    "                                                   batch_size,\n",
    "                                                   source_sequence_length,\n",
    "                                                   target_sequence_length,\n",
    "                                                   max_target_sequence_length,\n",
    "                                                   len(source_vocab_to_int),\n",
    "                                                   len(target_vocab_to_int),\n",
    "                                                   encoding_embedding_size,\n",
    "                                                   decoding_embedding_size,\n",
    "                                                   rnn_size,\n",
    "                                                   num_layers,\n",
    "                                                   target_vocab_to_int)\n",
    "\n",
    "\n",
    "    training_logits = tf.identity(train_logits.rnn_output, name='logits')\n",
    "    inference_logits = tf.identity(inference_logits.sample_id, name='predictions')\n",
    "\n",
    "    masks = tf.sequence_mask(target_sequence_length, max_target_sequence_length, dtype=tf.float32, name='masks')\n",
    "\n",
    "    with tf.name_scope(\"optimization\"):\n",
    "        # Loss function\n",
    "        cost = tf.contrib.seq2seq.sequence_loss(\n",
    "            training_logits,\n",
    "            targets,\n",
    "            masks)\n",
    "\n",
    "        # Optimizer\n",
    "        optimizer = tf.train.AdamOptimizer(lr)\n",
    "\n",
    "        # Gradient Clipping\n",
    "        gradients = optimizer.compute_gradients(cost)\n",
    "        capped_gradients = [(tf.clip_by_value(grad, -1., 1.), var) for grad, var in gradients if grad is not None]\n",
    "        train_op = optimizer.apply_gradients(capped_gradients)\n"
   ]
  },
  {
   "cell_type": "markdown",
   "metadata": {},
   "source": [
    "Batch and pad the source and target sequences"
   ]
  },
  {
   "cell_type": "code",
   "execution_count": 60,
   "metadata": {
    "collapsed": true
   },
   "outputs": [],
   "source": [
    "\"\"\"\n",
    "DON'T MODIFY ANYTHING IN THIS CELL\n",
    "\"\"\"\n",
    "def pad_sentence_batch(sentence_batch, pad_int):\n",
    "    \"\"\"Pad sentences with <PAD> so that each sentence of a batch has the same length\"\"\"\n",
    "    max_sentence = max([len(sentence) for sentence in sentence_batch])\n",
    "    return [sentence + [pad_int] * (max_sentence - len(sentence)) for sentence in sentence_batch]\n",
    "\n",
    "\n",
    "def get_batches(sources, targets, batch_size, source_pad_int, target_pad_int):\n",
    "    \"\"\"Batch targets, sources, and the lengths of their sentences together\"\"\"\n",
    "    for batch_i in range(0, len(sources)//batch_size):\n",
    "        start_i = batch_i * batch_size\n",
    "\n",
    "        # Slice the right amount for the batch\n",
    "        sources_batch = sources[start_i:start_i + batch_size]\n",
    "        targets_batch = targets[start_i:start_i + batch_size]\n",
    "\n",
    "        # Pad\n",
    "        pad_sources_batch = np.array(pad_sentence_batch(sources_batch, source_pad_int))\n",
    "        pad_targets_batch = np.array(pad_sentence_batch(targets_batch, target_pad_int))\n",
    "\n",
    "        # Need the lengths for the _lengths parameters\n",
    "        pad_targets_lengths = []\n",
    "        for target in pad_targets_batch:\n",
    "            pad_targets_lengths.append(len(target))\n",
    "\n",
    "        pad_source_lengths = []\n",
    "        for source in pad_sources_batch:\n",
    "            pad_source_lengths.append(len(source))\n",
    "\n",
    "        yield pad_sources_batch, pad_targets_batch, pad_source_lengths, pad_targets_lengths\n"
   ]
  },
  {
   "cell_type": "markdown",
   "metadata": {},
   "source": [
    "### Train\n",
    "Train the neural network on the preprocessed data. If you have a hard time getting a good loss, check the forms to see if anyone is having the same problem."
   ]
  },
  {
   "cell_type": "code",
   "execution_count": 61,
   "metadata": {
    "scrolled": true
   },
   "outputs": [
    {
     "name": "stdout",
     "output_type": "stream",
     "text": [
      "Epoch   0 Batch   10/1077 - Train Accuracy: 0.2101, Validation Accuracy: 0.3185, Loss: 5.7207\n",
      "Epoch   0 Batch   20/1077 - Train Accuracy: 0.2422, Validation Accuracy: 0.3185, Loss: 4.9337\n",
      "Epoch   0 Batch   30/1077 - Train Accuracy: 0.2629, Validation Accuracy: 0.3349, Loss: 4.2107\n",
      "Epoch   0 Batch   40/1077 - Train Accuracy: 0.2660, Validation Accuracy: 0.3363, Loss: 3.7945\n",
      "Epoch   0 Batch   50/1077 - Train Accuracy: 0.2605, Validation Accuracy: 0.3366, Loss: 3.6360\n",
      "Epoch   0 Batch   60/1077 - Train Accuracy: 0.2987, Validation Accuracy: 0.3366, Loss: 3.4046\n",
      "Epoch   0 Batch   70/1077 - Train Accuracy: 0.2414, Validation Accuracy: 0.3459, Loss: 3.5638\n",
      "Epoch   0 Batch   80/1077 - Train Accuracy: 0.2926, Validation Accuracy: 0.3533, Loss: 3.3356\n",
      "Epoch   0 Batch   90/1077 - Train Accuracy: 0.2914, Validation Accuracy: 0.3597, Loss: 3.3210\n",
      "Epoch   0 Batch  100/1077 - Train Accuracy: 0.2992, Validation Accuracy: 0.3700, Loss: 3.2649\n",
      "Epoch   0 Batch  110/1077 - Train Accuracy: 0.3227, Validation Accuracy: 0.3707, Loss: 3.1648\n",
      "Epoch   0 Batch  120/1077 - Train Accuracy: 0.3289, Validation Accuracy: 0.3910, Loss: 3.1770\n",
      "Epoch   0 Batch  130/1077 - Train Accuracy: 0.3594, Validation Accuracy: 0.3984, Loss: 3.0397\n",
      "Epoch   0 Batch  140/1077 - Train Accuracy: 0.3096, Validation Accuracy: 0.3995, Loss: 3.2632\n",
      "Epoch   0 Batch  150/1077 - Train Accuracy: 0.3828, Validation Accuracy: 0.4016, Loss: 2.9625\n",
      "Epoch   0 Batch  160/1077 - Train Accuracy: 0.3457, Validation Accuracy: 0.4009, Loss: 3.0268\n",
      "Epoch   0 Batch  170/1077 - Train Accuracy: 0.3238, Validation Accuracy: 0.4031, Loss: 3.1188\n",
      "Epoch   0 Batch  180/1077 - Train Accuracy: 0.3465, Validation Accuracy: 0.4034, Loss: 3.0181\n",
      "Epoch   0 Batch  190/1077 - Train Accuracy: 0.3445, Validation Accuracy: 0.4027, Loss: 3.0139\n",
      "Epoch   0 Batch  200/1077 - Train Accuracy: 0.3469, Validation Accuracy: 0.4045, Loss: 2.9609\n",
      "Epoch   0 Batch  210/1077 - Train Accuracy: 0.3761, Validation Accuracy: 0.4052, Loss: 2.8506\n",
      "Epoch   0 Batch  220/1077 - Train Accuracy: 0.3207, Validation Accuracy: 0.4084, Loss: 3.0094\n",
      "Epoch   0 Batch  230/1077 - Train Accuracy: 0.3824, Validation Accuracy: 0.4116, Loss: 2.7522\n",
      "Epoch   0 Batch  240/1077 - Train Accuracy: 0.3750, Validation Accuracy: 0.4219, Loss: 2.7995\n",
      "Epoch   0 Batch  250/1077 - Train Accuracy: 0.4187, Validation Accuracy: 0.4318, Loss: 2.6386\n",
      "Epoch   0 Batch  260/1077 - Train Accuracy: 0.3903, Validation Accuracy: 0.4261, Loss: 2.6934\n",
      "Epoch   0 Batch  270/1077 - Train Accuracy: 0.3457, Validation Accuracy: 0.4308, Loss: 2.8973\n",
      "Epoch   0 Batch  280/1077 - Train Accuracy: 0.3793, Validation Accuracy: 0.4290, Loss: 2.7510\n",
      "Epoch   0 Batch  290/1077 - Train Accuracy: 0.3906, Validation Accuracy: 0.4379, Loss: 2.7511\n",
      "Epoch   0 Batch  300/1077 - Train Accuracy: 0.3516, Validation Accuracy: 0.4421, Loss: 2.8500\n",
      "Epoch   0 Batch  310/1077 - Train Accuracy: 0.3816, Validation Accuracy: 0.4492, Loss: 2.7305\n",
      "Epoch   0 Batch  320/1077 - Train Accuracy: 0.3969, Validation Accuracy: 0.4496, Loss: 2.6946\n",
      "Epoch   0 Batch  330/1077 - Train Accuracy: 0.4098, Validation Accuracy: 0.4506, Loss: 2.6313\n",
      "Epoch   0 Batch  340/1077 - Train Accuracy: 0.3701, Validation Accuracy: 0.4521, Loss: 2.7649\n",
      "Epoch   0 Batch  350/1077 - Train Accuracy: 0.3887, Validation Accuracy: 0.4538, Loss: 2.7104\n",
      "Epoch   0 Batch  360/1077 - Train Accuracy: 0.4035, Validation Accuracy: 0.4513, Loss: 2.6092\n",
      "Epoch   0 Batch  370/1077 - Train Accuracy: 0.4182, Validation Accuracy: 0.4585, Loss: 2.5409\n",
      "Epoch   0 Batch  380/1077 - Train Accuracy: 0.4145, Validation Accuracy: 0.4567, Loss: 2.5213\n",
      "Epoch   0 Batch  390/1077 - Train Accuracy: 0.3793, Validation Accuracy: 0.4595, Loss: 2.6529\n",
      "Epoch   0 Batch  400/1077 - Train Accuracy: 0.4094, Validation Accuracy: 0.4631, Loss: 2.5678\n",
      "Epoch   0 Batch  410/1077 - Train Accuracy: 0.3890, Validation Accuracy: 0.4634, Loss: 2.6109\n",
      "Epoch   0 Batch  420/1077 - Train Accuracy: 0.4094, Validation Accuracy: 0.4563, Loss: 2.4976\n",
      "Epoch   0 Batch  430/1077 - Train Accuracy: 0.4160, Validation Accuracy: 0.4688, Loss: 2.4528\n",
      "Epoch   0 Batch  440/1077 - Train Accuracy: 0.4195, Validation Accuracy: 0.4712, Loss: 2.4408\n",
      "Epoch   0 Batch  450/1077 - Train Accuracy: 0.4254, Validation Accuracy: 0.4712, Loss: 2.4384\n",
      "Epoch   0 Batch  460/1077 - Train Accuracy: 0.4016, Validation Accuracy: 0.4695, Loss: 2.4611\n",
      "Epoch   0 Batch  470/1077 - Train Accuracy: 0.4116, Validation Accuracy: 0.4847, Loss: 2.4878\n",
      "Epoch   0 Batch  480/1077 - Train Accuracy: 0.4169, Validation Accuracy: 0.4805, Loss: 2.4446\n",
      "Epoch   0 Batch  490/1077 - Train Accuracy: 0.4125, Validation Accuracy: 0.4769, Loss: 2.4194\n",
      "Epoch   0 Batch  500/1077 - Train Accuracy: 0.4500, Validation Accuracy: 0.4929, Loss: 2.3169\n",
      "Epoch   0 Batch  510/1077 - Train Accuracy: 0.4422, Validation Accuracy: 0.4787, Loss: 2.2808\n",
      "Epoch   0 Batch  520/1077 - Train Accuracy: 0.4617, Validation Accuracy: 0.4865, Loss: 2.2215\n",
      "Epoch   0 Batch  530/1077 - Train Accuracy: 0.4141, Validation Accuracy: 0.4858, Loss: 2.3627\n",
      "Epoch   0 Batch  540/1077 - Train Accuracy: 0.4430, Validation Accuracy: 0.4893, Loss: 2.1863\n",
      "Epoch   0 Batch  550/1077 - Train Accuracy: 0.4000, Validation Accuracy: 0.4815, Loss: 2.3426\n",
      "Epoch   0 Batch  560/1077 - Train Accuracy: 0.4598, Validation Accuracy: 0.5018, Loss: 2.2100\n",
      "Epoch   0 Batch  570/1077 - Train Accuracy: 0.4330, Validation Accuracy: 0.4968, Loss: 2.3109\n",
      "Epoch   0 Batch  580/1077 - Train Accuracy: 0.4773, Validation Accuracy: 0.4964, Loss: 2.1448\n",
      "Epoch   0 Batch  590/1077 - Train Accuracy: 0.4260, Validation Accuracy: 0.5011, Loss: 2.3110\n",
      "Epoch   0 Batch  600/1077 - Train Accuracy: 0.4743, Validation Accuracy: 0.4986, Loss: 2.0967\n",
      "Epoch   0 Batch  610/1077 - Train Accuracy: 0.4359, Validation Accuracy: 0.5011, Loss: 2.2598\n",
      "Epoch   0 Batch  620/1077 - Train Accuracy: 0.4508, Validation Accuracy: 0.5007, Loss: 2.1715\n",
      "Epoch   0 Batch  630/1077 - Train Accuracy: 0.4578, Validation Accuracy: 0.5043, Loss: 2.1349\n",
      "Epoch   0 Batch  640/1077 - Train Accuracy: 0.4606, Validation Accuracy: 0.5050, Loss: 2.0775\n",
      "Epoch   0 Batch  650/1077 - Train Accuracy: 0.4520, Validation Accuracy: 0.5110, Loss: 2.1665\n",
      "Epoch   0 Batch  660/1077 - Train Accuracy: 0.4480, Validation Accuracy: 0.4982, Loss: 2.1619\n",
      "Epoch   0 Batch  670/1077 - Train Accuracy: 0.5202, Validation Accuracy: 0.4989, Loss: 1.8550\n",
      "Epoch   0 Batch  680/1077 - Train Accuracy: 0.4691, Validation Accuracy: 0.5096, Loss: 2.0310\n",
      "Epoch   0 Batch  690/1077 - Train Accuracy: 0.4695, Validation Accuracy: 0.5067, Loss: 2.0301\n",
      "Epoch   0 Batch  700/1077 - Train Accuracy: 0.4609, Validation Accuracy: 0.4979, Loss: 2.0050\n",
      "Epoch   0 Batch  710/1077 - Train Accuracy: 0.4430, Validation Accuracy: 0.5036, Loss: 2.0644\n",
      "Epoch   0 Batch  720/1077 - Train Accuracy: 0.4474, Validation Accuracy: 0.5053, Loss: 2.1390\n",
      "Epoch   0 Batch  730/1077 - Train Accuracy: 0.4488, Validation Accuracy: 0.5064, Loss: 1.9876\n",
      "Epoch   0 Batch  740/1077 - Train Accuracy: 0.4813, Validation Accuracy: 0.5057, Loss: 1.9768\n",
      "Epoch   0 Batch  750/1077 - Train Accuracy: 0.4598, Validation Accuracy: 0.5067, Loss: 1.9687\n",
      "Epoch   0 Batch  760/1077 - Train Accuracy: 0.4707, Validation Accuracy: 0.5032, Loss: 1.9831\n",
      "Epoch   0 Batch  770/1077 - Train Accuracy: 0.4717, Validation Accuracy: 0.4982, Loss: 1.8673\n",
      "Epoch   0 Batch  780/1077 - Train Accuracy: 0.4406, Validation Accuracy: 0.4979, Loss: 1.9502\n",
      "Epoch   0 Batch  790/1077 - Train Accuracy: 0.3906, Validation Accuracy: 0.4872, Loss: 2.0104\n",
      "Epoch   0 Batch  800/1077 - Train Accuracy: 0.4203, Validation Accuracy: 0.4982, Loss: 1.9324\n",
      "Epoch   0 Batch  810/1077 - Train Accuracy: 0.4702, Validation Accuracy: 0.4826, Loss: 1.7604\n",
      "Epoch   0 Batch  820/1077 - Train Accuracy: 0.4188, Validation Accuracy: 0.4844, Loss: 1.8910\n",
      "Epoch   0 Batch  830/1077 - Train Accuracy: 0.4430, Validation Accuracy: 0.5000, Loss: 1.7965\n",
      "Epoch   0 Batch  840/1077 - Train Accuracy: 0.4281, Validation Accuracy: 0.4790, Loss: 1.8172\n",
      "Epoch   0 Batch  850/1077 - Train Accuracy: 0.4416, Validation Accuracy: 0.4801, Loss: 1.7999\n",
      "Epoch   0 Batch  860/1077 - Train Accuracy: 0.4617, Validation Accuracy: 0.4766, Loss: 1.7069\n",
      "Epoch   0 Batch  870/1077 - Train Accuracy: 0.4128, Validation Accuracy: 0.4815, Loss: 1.8875\n",
      "Epoch   0 Batch  880/1077 - Train Accuracy: 0.4531, Validation Accuracy: 0.4684, Loss: 1.6601\n"
     ]
    },
    {
     "name": "stdout",
     "output_type": "stream",
     "text": [
      "Epoch   0 Batch  890/1077 - Train Accuracy: 0.4922, Validation Accuracy: 0.4695, Loss: 1.5533\n",
      "Epoch   0 Batch  900/1077 - Train Accuracy: 0.4258, Validation Accuracy: 0.4769, Loss: 1.7734\n",
      "Epoch   0 Batch  910/1077 - Train Accuracy: 0.4568, Validation Accuracy: 0.4833, Loss: 1.6212\n",
      "Epoch   0 Batch  920/1077 - Train Accuracy: 0.4262, Validation Accuracy: 0.4794, Loss: 1.6774\n",
      "Epoch   0 Batch  930/1077 - Train Accuracy: 0.4586, Validation Accuracy: 0.4840, Loss: 1.6150\n",
      "Epoch   0 Batch  940/1077 - Train Accuracy: 0.4406, Validation Accuracy: 0.4883, Loss: 1.6691\n",
      "Epoch   0 Batch  950/1077 - Train Accuracy: 0.4621, Validation Accuracy: 0.4869, Loss: 1.5912\n",
      "Epoch   0 Batch  960/1077 - Train Accuracy: 0.4717, Validation Accuracy: 0.4737, Loss: 1.5096\n",
      "Epoch   0 Batch  970/1077 - Train Accuracy: 0.4367, Validation Accuracy: 0.4847, Loss: 1.6123\n",
      "Epoch   0 Batch  980/1077 - Train Accuracy: 0.4594, Validation Accuracy: 0.4890, Loss: 1.5295\n",
      "Epoch   0 Batch  990/1077 - Train Accuracy: 0.4408, Validation Accuracy: 0.4929, Loss: 1.6081\n",
      "Epoch   0 Batch 1000/1077 - Train Accuracy: 0.5060, Validation Accuracy: 0.4975, Loss: 1.4598\n",
      "Epoch   0 Batch 1010/1077 - Train Accuracy: 0.4500, Validation Accuracy: 0.5011, Loss: 1.5721\n",
      "Epoch   0 Batch 1020/1077 - Train Accuracy: 0.4684, Validation Accuracy: 0.5043, Loss: 1.4945\n",
      "Epoch   0 Batch 1030/1077 - Train Accuracy: 0.4734, Validation Accuracy: 0.5057, Loss: 1.5540\n",
      "Epoch   0 Batch 1040/1077 - Train Accuracy: 0.4523, Validation Accuracy: 0.4925, Loss: 1.5489\n",
      "Epoch   0 Batch 1050/1077 - Train Accuracy: 0.4207, Validation Accuracy: 0.4996, Loss: 1.5522\n",
      "Epoch   0 Batch 1060/1077 - Train Accuracy: 0.4758, Validation Accuracy: 0.5004, Loss: 1.4386\n",
      "Epoch   0 Batch 1070/1077 - Train Accuracy: 0.4348, Validation Accuracy: 0.4940, Loss: 1.4937\n",
      "Epoch   1 Batch   10/1077 - Train Accuracy: 0.4326, Validation Accuracy: 0.4982, Loss: 1.5342\n",
      "Epoch   1 Batch   20/1077 - Train Accuracy: 0.4422, Validation Accuracy: 0.4936, Loss: 1.3700\n",
      "Epoch   1 Batch   30/1077 - Train Accuracy: 0.4668, Validation Accuracy: 0.5078, Loss: 1.3841\n",
      "Epoch   1 Batch   40/1077 - Train Accuracy: 0.4484, Validation Accuracy: 0.5021, Loss: 1.4011\n",
      "Epoch   1 Batch   50/1077 - Train Accuracy: 0.4461, Validation Accuracy: 0.5085, Loss: 1.4425\n",
      "Epoch   1 Batch   60/1077 - Train Accuracy: 0.4818, Validation Accuracy: 0.5043, Loss: 1.3492\n",
      "Epoch   1 Batch   70/1077 - Train Accuracy: 0.4642, Validation Accuracy: 0.5273, Loss: 1.4438\n",
      "Epoch   1 Batch   80/1077 - Train Accuracy: 0.4809, Validation Accuracy: 0.5185, Loss: 1.3606\n",
      "Epoch   1 Batch   90/1077 - Train Accuracy: 0.4656, Validation Accuracy: 0.5199, Loss: 1.4233\n",
      "Epoch   1 Batch  100/1077 - Train Accuracy: 0.4742, Validation Accuracy: 0.5178, Loss: 1.3406\n",
      "Epoch   1 Batch  110/1077 - Train Accuracy: 0.5164, Validation Accuracy: 0.5273, Loss: 1.2959\n",
      "Epoch   1 Batch  120/1077 - Train Accuracy: 0.4820, Validation Accuracy: 0.5266, Loss: 1.3397\n",
      "Epoch   1 Batch  130/1077 - Train Accuracy: 0.4877, Validation Accuracy: 0.5273, Loss: 1.2291\n",
      "Epoch   1 Batch  140/1077 - Train Accuracy: 0.4363, Validation Accuracy: 0.5330, Loss: 1.3994\n",
      "Epoch   1 Batch  150/1077 - Train Accuracy: 0.5026, Validation Accuracy: 0.5245, Loss: 1.2300\n",
      "Epoch   1 Batch  160/1077 - Train Accuracy: 0.5000, Validation Accuracy: 0.5359, Loss: 1.2688\n",
      "Epoch   1 Batch  170/1077 - Train Accuracy: 0.4652, Validation Accuracy: 0.5281, Loss: 1.3122\n",
      "Epoch   1 Batch  180/1077 - Train Accuracy: 0.4809, Validation Accuracy: 0.5337, Loss: 1.2445\n",
      "Epoch   1 Batch  190/1077 - Train Accuracy: 0.4965, Validation Accuracy: 0.5259, Loss: 1.2640\n",
      "Epoch   1 Batch  200/1077 - Train Accuracy: 0.4801, Validation Accuracy: 0.5270, Loss: 1.2495\n",
      "Epoch   1 Batch  210/1077 - Train Accuracy: 0.5048, Validation Accuracy: 0.5295, Loss: 1.2518\n",
      "Epoch   1 Batch  220/1077 - Train Accuracy: 0.4601, Validation Accuracy: 0.5263, Loss: 1.2627\n",
      "Epoch   1 Batch  230/1077 - Train Accuracy: 0.5030, Validation Accuracy: 0.5185, Loss: 1.1470\n",
      "Epoch   1 Batch  240/1077 - Train Accuracy: 0.5047, Validation Accuracy: 0.5298, Loss: 1.1894\n",
      "Epoch   1 Batch  250/1077 - Train Accuracy: 0.5028, Validation Accuracy: 0.5206, Loss: 1.1348\n",
      "Epoch   1 Batch  260/1077 - Train Accuracy: 0.5015, Validation Accuracy: 0.5153, Loss: 1.1549\n",
      "Epoch   1 Batch  270/1077 - Train Accuracy: 0.4234, Validation Accuracy: 0.5256, Loss: 1.2759\n",
      "Epoch   1 Batch  280/1077 - Train Accuracy: 0.4926, Validation Accuracy: 0.5213, Loss: 1.2081\n",
      "Epoch   1 Batch  290/1077 - Train Accuracy: 0.4621, Validation Accuracy: 0.5302, Loss: 1.1964\n",
      "Epoch   1 Batch  300/1077 - Train Accuracy: 0.4482, Validation Accuracy: 0.5341, Loss: 1.2372\n",
      "Epoch   1 Batch  310/1077 - Train Accuracy: 0.4598, Validation Accuracy: 0.5352, Loss: 1.1824\n",
      "Epoch   1 Batch  320/1077 - Train Accuracy: 0.4988, Validation Accuracy: 0.5210, Loss: 1.1892\n",
      "Epoch   1 Batch  330/1077 - Train Accuracy: 0.5043, Validation Accuracy: 0.5341, Loss: 1.1635\n",
      "Epoch   1 Batch  340/1077 - Train Accuracy: 0.4482, Validation Accuracy: 0.5213, Loss: 1.1849\n",
      "Epoch   1 Batch  350/1077 - Train Accuracy: 0.4566, Validation Accuracy: 0.5259, Loss: 1.2183\n",
      "Epoch   1 Batch  360/1077 - Train Accuracy: 0.4750, Validation Accuracy: 0.5273, Loss: 1.1380\n",
      "Epoch   1 Batch  370/1077 - Train Accuracy: 0.4907, Validation Accuracy: 0.5202, Loss: 1.0995\n",
      "Epoch   1 Batch  380/1077 - Train Accuracy: 0.4859, Validation Accuracy: 0.5114, Loss: 1.0943\n",
      "Epoch   1 Batch  390/1077 - Train Accuracy: 0.4668, Validation Accuracy: 0.5344, Loss: 1.1678\n",
      "Epoch   1 Batch  400/1077 - Train Accuracy: 0.4785, Validation Accuracy: 0.5160, Loss: 1.1275\n",
      "Epoch   1 Batch  410/1077 - Train Accuracy: 0.4437, Validation Accuracy: 0.5220, Loss: 1.1391\n",
      "Epoch   1 Batch  420/1077 - Train Accuracy: 0.4781, Validation Accuracy: 0.5355, Loss: 1.1071\n",
      "Epoch   1 Batch  430/1077 - Train Accuracy: 0.4809, Validation Accuracy: 0.5266, Loss: 1.0882\n",
      "Epoch   1 Batch  440/1077 - Train Accuracy: 0.5012, Validation Accuracy: 0.5305, Loss: 1.0963\n",
      "Epoch   1 Batch  450/1077 - Train Accuracy: 0.4738, Validation Accuracy: 0.5398, Loss: 1.0881\n",
      "Epoch   1 Batch  460/1077 - Train Accuracy: 0.4605, Validation Accuracy: 0.5170, Loss: 1.1014\n",
      "Epoch   1 Batch  470/1077 - Train Accuracy: 0.4836, Validation Accuracy: 0.5362, Loss: 1.1068\n",
      "Epoch   1 Batch  480/1077 - Train Accuracy: 0.4609, Validation Accuracy: 0.5369, Loss: 1.1028\n",
      "Epoch   1 Batch  490/1077 - Train Accuracy: 0.4781, Validation Accuracy: 0.5305, Loss: 1.0765\n",
      "Epoch   1 Batch  500/1077 - Train Accuracy: 0.4945, Validation Accuracy: 0.5415, Loss: 1.0523\n",
      "Epoch   1 Batch  510/1077 - Train Accuracy: 0.5148, Validation Accuracy: 0.5330, Loss: 1.0356\n",
      "Epoch   1 Batch  520/1077 - Train Accuracy: 0.5104, Validation Accuracy: 0.5327, Loss: 0.9947\n",
      "Epoch   1 Batch  530/1077 - Train Accuracy: 0.4914, Validation Accuracy: 0.5341, Loss: 1.0439\n",
      "Epoch   1 Batch  540/1077 - Train Accuracy: 0.4781, Validation Accuracy: 0.5124, Loss: 1.0021\n",
      "Epoch   1 Batch  550/1077 - Train Accuracy: 0.4645, Validation Accuracy: 0.5117, Loss: 1.0568\n",
      "Epoch   1 Batch  560/1077 - Train Accuracy: 0.4820, Validation Accuracy: 0.5295, Loss: 1.0040\n",
      "Epoch   1 Batch  570/1077 - Train Accuracy: 0.4967, Validation Accuracy: 0.5344, Loss: 1.0394\n",
      "Epoch   1 Batch  580/1077 - Train Accuracy: 0.5376, Validation Accuracy: 0.5330, Loss: 0.9549\n",
      "Epoch   1 Batch  590/1077 - Train Accuracy: 0.4708, Validation Accuracy: 0.5362, Loss: 1.0410\n",
      "Epoch   1 Batch  600/1077 - Train Accuracy: 0.5104, Validation Accuracy: 0.5341, Loss: 0.9660\n",
      "Epoch   1 Batch  610/1077 - Train Accuracy: 0.4646, Validation Accuracy: 0.5341, Loss: 1.0406\n",
      "Epoch   1 Batch  620/1077 - Train Accuracy: 0.4887, Validation Accuracy: 0.5327, Loss: 0.9941\n",
      "Epoch   1 Batch  630/1077 - Train Accuracy: 0.4770, Validation Accuracy: 0.5305, Loss: 0.9877\n",
      "Epoch   1 Batch  640/1077 - Train Accuracy: 0.4792, Validation Accuracy: 0.5124, Loss: 0.9449\n",
      "Epoch   1 Batch  650/1077 - Train Accuracy: 0.4441, Validation Accuracy: 0.5039, Loss: 0.9845\n",
      "Epoch   1 Batch  660/1077 - Train Accuracy: 0.4781, Validation Accuracy: 0.5210, Loss: 0.9993\n",
      "Epoch   1 Batch  670/1077 - Train Accuracy: 0.5710, Validation Accuracy: 0.5384, Loss: 0.8743\n",
      "Epoch   1 Batch  680/1077 - Train Accuracy: 0.5104, Validation Accuracy: 0.5455, Loss: 0.9430\n",
      "Epoch   1 Batch  690/1077 - Train Accuracy: 0.4910, Validation Accuracy: 0.5266, Loss: 0.9451\n"
     ]
    },
    {
     "name": "stdout",
     "output_type": "stream",
     "text": [
      "Epoch   1 Batch  700/1077 - Train Accuracy: 0.4895, Validation Accuracy: 0.5405, Loss: 0.9328\n",
      "Epoch   1 Batch  710/1077 - Train Accuracy: 0.4969, Validation Accuracy: 0.5202, Loss: 0.9577\n",
      "Epoch   1 Batch  720/1077 - Train Accuracy: 0.5037, Validation Accuracy: 0.5423, Loss: 1.0174\n",
      "Epoch   1 Batch  730/1077 - Train Accuracy: 0.4984, Validation Accuracy: 0.5391, Loss: 0.9405\n",
      "Epoch   1 Batch  740/1077 - Train Accuracy: 0.5414, Validation Accuracy: 0.5494, Loss: 0.9347\n",
      "Epoch   1 Batch  750/1077 - Train Accuracy: 0.5211, Validation Accuracy: 0.5678, Loss: 0.9216\n",
      "Epoch   1 Batch  760/1077 - Train Accuracy: 0.5191, Validation Accuracy: 0.5579, Loss: 0.9591\n",
      "Epoch   1 Batch  770/1077 - Train Accuracy: 0.5130, Validation Accuracy: 0.5501, Loss: 0.8979\n",
      "Epoch   1 Batch  780/1077 - Train Accuracy: 0.5121, Validation Accuracy: 0.5625, Loss: 0.9602\n",
      "Epoch   1 Batch  790/1077 - Train Accuracy: 0.4500, Validation Accuracy: 0.5433, Loss: 0.9877\n",
      "Epoch   1 Batch  800/1077 - Train Accuracy: 0.4867, Validation Accuracy: 0.5671, Loss: 0.9286\n",
      "Epoch   1 Batch  810/1077 - Train Accuracy: 0.5450, Validation Accuracy: 0.5732, Loss: 0.8625\n",
      "Epoch   1 Batch  820/1077 - Train Accuracy: 0.4871, Validation Accuracy: 0.5540, Loss: 0.9220\n",
      "Epoch   1 Batch  830/1077 - Train Accuracy: 0.5012, Validation Accuracy: 0.5721, Loss: 0.8915\n",
      "Epoch   1 Batch  840/1077 - Train Accuracy: 0.4969, Validation Accuracy: 0.5682, Loss: 0.8940\n",
      "Epoch   1 Batch  850/1077 - Train Accuracy: 0.5074, Validation Accuracy: 0.5661, Loss: 0.9389\n",
      "Epoch   1 Batch  860/1077 - Train Accuracy: 0.5335, Validation Accuracy: 0.5682, Loss: 0.8673\n",
      "Epoch   1 Batch  870/1077 - Train Accuracy: 0.4901, Validation Accuracy: 0.5518, Loss: 0.9774\n",
      "Epoch   1 Batch  880/1077 - Train Accuracy: 0.5469, Validation Accuracy: 0.5714, Loss: 0.8693\n",
      "Epoch   1 Batch  890/1077 - Train Accuracy: 0.5714, Validation Accuracy: 0.5582, Loss: 0.8099\n",
      "Epoch   1 Batch  900/1077 - Train Accuracy: 0.5152, Validation Accuracy: 0.5440, Loss: 0.9143\n",
      "Epoch   1 Batch  910/1077 - Train Accuracy: 0.4948, Validation Accuracy: 0.5657, Loss: 0.8643\n",
      "Epoch   1 Batch  920/1077 - Train Accuracy: 0.4887, Validation Accuracy: 0.5692, Loss: 0.8895\n",
      "Epoch   1 Batch  930/1077 - Train Accuracy: 0.5426, Validation Accuracy: 0.5781, Loss: 0.8588\n",
      "Epoch   1 Batch  940/1077 - Train Accuracy: 0.5188, Validation Accuracy: 0.5565, Loss: 0.8797\n",
      "Epoch   1 Batch  950/1077 - Train Accuracy: 0.5156, Validation Accuracy: 0.5767, Loss: 0.8487\n",
      "Epoch   1 Batch  960/1077 - Train Accuracy: 0.5469, Validation Accuracy: 0.5884, Loss: 0.8334\n",
      "Epoch   1 Batch  970/1077 - Train Accuracy: 0.5484, Validation Accuracy: 0.5842, Loss: 0.8873\n",
      "Epoch   1 Batch  980/1077 - Train Accuracy: 0.5293, Validation Accuracy: 0.5806, Loss: 0.8464\n",
      "Epoch   1 Batch  990/1077 - Train Accuracy: 0.5169, Validation Accuracy: 0.5717, Loss: 0.8975\n",
      "Epoch   1 Batch 1000/1077 - Train Accuracy: 0.5733, Validation Accuracy: 0.5813, Loss: 0.8050\n",
      "Epoch   1 Batch 1010/1077 - Train Accuracy: 0.5305, Validation Accuracy: 0.5771, Loss: 0.8663\n",
      "Epoch   1 Batch 1020/1077 - Train Accuracy: 0.5320, Validation Accuracy: 0.5788, Loss: 0.8251\n",
      "Epoch   1 Batch 1030/1077 - Train Accuracy: 0.5285, Validation Accuracy: 0.5771, Loss: 0.8573\n",
      "Epoch   1 Batch 1040/1077 - Train Accuracy: 0.5275, Validation Accuracy: 0.5728, Loss: 0.8741\n",
      "Epoch   1 Batch 1050/1077 - Train Accuracy: 0.4652, Validation Accuracy: 0.5824, Loss: 0.8696\n",
      "Epoch   1 Batch 1060/1077 - Train Accuracy: 0.5191, Validation Accuracy: 0.5600, Loss: 0.8133\n",
      "Epoch   1 Batch 1070/1077 - Train Accuracy: 0.5027, Validation Accuracy: 0.5671, Loss: 0.8611\n",
      "Epoch   2 Batch   10/1077 - Train Accuracy: 0.5086, Validation Accuracy: 0.5781, Loss: 0.8595\n",
      "Epoch   2 Batch   20/1077 - Train Accuracy: 0.5312, Validation Accuracy: 0.5728, Loss: 0.7919\n",
      "Epoch   2 Batch   30/1077 - Train Accuracy: 0.5352, Validation Accuracy: 0.5735, Loss: 0.8076\n",
      "Epoch   2 Batch   40/1077 - Train Accuracy: 0.5324, Validation Accuracy: 0.5749, Loss: 0.8252\n",
      "Epoch   2 Batch   50/1077 - Train Accuracy: 0.4969, Validation Accuracy: 0.5795, Loss: 0.8346\n",
      "Epoch   2 Batch   60/1077 - Train Accuracy: 0.5353, Validation Accuracy: 0.5810, Loss: 0.7830\n",
      "Epoch   2 Batch   70/1077 - Train Accuracy: 0.5387, Validation Accuracy: 0.5810, Loss: 0.8409\n",
      "Epoch   2 Batch   80/1077 - Train Accuracy: 0.5492, Validation Accuracy: 0.5767, Loss: 0.8095\n",
      "Epoch   2 Batch   90/1077 - Train Accuracy: 0.5227, Validation Accuracy: 0.5767, Loss: 0.8329\n",
      "Epoch   2 Batch  100/1077 - Train Accuracy: 0.5414, Validation Accuracy: 0.5803, Loss: 0.8028\n",
      "Epoch   2 Batch  110/1077 - Train Accuracy: 0.5758, Validation Accuracy: 0.5760, Loss: 0.7609\n",
      "Epoch   2 Batch  120/1077 - Train Accuracy: 0.5398, Validation Accuracy: 0.5824, Loss: 0.8053\n",
      "Epoch   2 Batch  130/1077 - Train Accuracy: 0.5521, Validation Accuracy: 0.5795, Loss: 0.7408\n",
      "Epoch   2 Batch  140/1077 - Train Accuracy: 0.4749, Validation Accuracy: 0.5781, Loss: 0.8354\n",
      "Epoch   2 Batch  150/1077 - Train Accuracy: 0.5614, Validation Accuracy: 0.5831, Loss: 0.7469\n",
      "Epoch   2 Batch  160/1077 - Train Accuracy: 0.5445, Validation Accuracy: 0.5877, Loss: 0.7671\n",
      "Epoch   2 Batch  170/1077 - Train Accuracy: 0.5156, Validation Accuracy: 0.5884, Loss: 0.8094\n"
     ]
    },
    {
     "ename": "KeyboardInterrupt",
     "evalue": "",
     "output_type": "error",
     "traceback": [
      "\u001b[0;31m---------------------------------------------------------------------------\u001b[0m",
      "\u001b[0;31mKeyboardInterrupt\u001b[0m                         Traceback (most recent call last)",
      "\u001b[0;32m<ipython-input-61-8b554ffa681f>\u001b[0m in \u001b[0;36m<module>\u001b[0;34m()\u001b[0m\n\u001b[1;32m     46\u001b[0m                  \u001b[0mtarget_sequence_length\u001b[0m\u001b[0;34m:\u001b[0m \u001b[0mtargets_lengths\u001b[0m\u001b[0;34m,\u001b[0m\u001b[0;34m\u001b[0m\u001b[0m\n\u001b[1;32m     47\u001b[0m                  \u001b[0msource_sequence_length\u001b[0m\u001b[0;34m:\u001b[0m \u001b[0msources_lengths\u001b[0m\u001b[0;34m,\u001b[0m\u001b[0;34m\u001b[0m\u001b[0m\n\u001b[0;32m---> 48\u001b[0;31m                  keep_prob: keep_probability})\n\u001b[0m\u001b[1;32m     49\u001b[0m \u001b[0;34m\u001b[0m\u001b[0m\n\u001b[1;32m     50\u001b[0m \u001b[0;34m\u001b[0m\u001b[0m\n",
      "\u001b[0;32m~/anaconda/envs/language-translation/lib/python3.6/site-packages/tensorflow/python/client/session.py\u001b[0m in \u001b[0;36mrun\u001b[0;34m(self, fetches, feed_dict, options, run_metadata)\u001b[0m\n\u001b[1;32m    776\u001b[0m     \u001b[0;32mtry\u001b[0m\u001b[0;34m:\u001b[0m\u001b[0;34m\u001b[0m\u001b[0m\n\u001b[1;32m    777\u001b[0m       result = self._run(None, fetches, feed_dict, options_ptr,\n\u001b[0;32m--> 778\u001b[0;31m                          run_metadata_ptr)\n\u001b[0m\u001b[1;32m    779\u001b[0m       \u001b[0;32mif\u001b[0m \u001b[0mrun_metadata\u001b[0m\u001b[0;34m:\u001b[0m\u001b[0;34m\u001b[0m\u001b[0m\n\u001b[1;32m    780\u001b[0m         \u001b[0mproto_data\u001b[0m \u001b[0;34m=\u001b[0m \u001b[0mtf_session\u001b[0m\u001b[0;34m.\u001b[0m\u001b[0mTF_GetBuffer\u001b[0m\u001b[0;34m(\u001b[0m\u001b[0mrun_metadata_ptr\u001b[0m\u001b[0;34m)\u001b[0m\u001b[0;34m\u001b[0m\u001b[0m\n",
      "\u001b[0;32m~/anaconda/envs/language-translation/lib/python3.6/site-packages/tensorflow/python/client/session.py\u001b[0m in \u001b[0;36m_run\u001b[0;34m(self, handle, fetches, feed_dict, options, run_metadata)\u001b[0m\n\u001b[1;32m    980\u001b[0m     \u001b[0;32mif\u001b[0m \u001b[0mfinal_fetches\u001b[0m \u001b[0;32mor\u001b[0m \u001b[0mfinal_targets\u001b[0m\u001b[0;34m:\u001b[0m\u001b[0;34m\u001b[0m\u001b[0m\n\u001b[1;32m    981\u001b[0m       results = self._do_run(handle, final_targets, final_fetches,\n\u001b[0;32m--> 982\u001b[0;31m                              feed_dict_string, options, run_metadata)\n\u001b[0m\u001b[1;32m    983\u001b[0m     \u001b[0;32melse\u001b[0m\u001b[0;34m:\u001b[0m\u001b[0;34m\u001b[0m\u001b[0m\n\u001b[1;32m    984\u001b[0m       \u001b[0mresults\u001b[0m \u001b[0;34m=\u001b[0m \u001b[0;34m[\u001b[0m\u001b[0;34m]\u001b[0m\u001b[0;34m\u001b[0m\u001b[0m\n",
      "\u001b[0;32m~/anaconda/envs/language-translation/lib/python3.6/site-packages/tensorflow/python/client/session.py\u001b[0m in \u001b[0;36m_do_run\u001b[0;34m(self, handle, target_list, fetch_list, feed_dict, options, run_metadata)\u001b[0m\n\u001b[1;32m   1030\u001b[0m     \u001b[0;32mif\u001b[0m \u001b[0mhandle\u001b[0m \u001b[0;32mis\u001b[0m \u001b[0;32mNone\u001b[0m\u001b[0;34m:\u001b[0m\u001b[0;34m\u001b[0m\u001b[0m\n\u001b[1;32m   1031\u001b[0m       return self._do_call(_run_fn, self._session, feed_dict, fetch_list,\n\u001b[0;32m-> 1032\u001b[0;31m                            target_list, options, run_metadata)\n\u001b[0m\u001b[1;32m   1033\u001b[0m     \u001b[0;32melse\u001b[0m\u001b[0;34m:\u001b[0m\u001b[0;34m\u001b[0m\u001b[0m\n\u001b[1;32m   1034\u001b[0m       return self._do_call(_prun_fn, self._session, handle, feed_dict,\n",
      "\u001b[0;32m~/anaconda/envs/language-translation/lib/python3.6/site-packages/tensorflow/python/client/session.py\u001b[0m in \u001b[0;36m_do_call\u001b[0;34m(self, fn, *args)\u001b[0m\n\u001b[1;32m   1037\u001b[0m   \u001b[0;32mdef\u001b[0m \u001b[0m_do_call\u001b[0m\u001b[0;34m(\u001b[0m\u001b[0mself\u001b[0m\u001b[0;34m,\u001b[0m \u001b[0mfn\u001b[0m\u001b[0;34m,\u001b[0m \u001b[0;34m*\u001b[0m\u001b[0margs\u001b[0m\u001b[0;34m)\u001b[0m\u001b[0;34m:\u001b[0m\u001b[0;34m\u001b[0m\u001b[0m\n\u001b[1;32m   1038\u001b[0m     \u001b[0;32mtry\u001b[0m\u001b[0;34m:\u001b[0m\u001b[0;34m\u001b[0m\u001b[0m\n\u001b[0;32m-> 1039\u001b[0;31m       \u001b[0;32mreturn\u001b[0m \u001b[0mfn\u001b[0m\u001b[0;34m(\u001b[0m\u001b[0;34m*\u001b[0m\u001b[0margs\u001b[0m\u001b[0;34m)\u001b[0m\u001b[0;34m\u001b[0m\u001b[0m\n\u001b[0m\u001b[1;32m   1040\u001b[0m     \u001b[0;32mexcept\u001b[0m \u001b[0merrors\u001b[0m\u001b[0;34m.\u001b[0m\u001b[0mOpError\u001b[0m \u001b[0;32mas\u001b[0m \u001b[0me\u001b[0m\u001b[0;34m:\u001b[0m\u001b[0;34m\u001b[0m\u001b[0m\n\u001b[1;32m   1041\u001b[0m       \u001b[0mmessage\u001b[0m \u001b[0;34m=\u001b[0m \u001b[0mcompat\u001b[0m\u001b[0;34m.\u001b[0m\u001b[0mas_text\u001b[0m\u001b[0;34m(\u001b[0m\u001b[0me\u001b[0m\u001b[0;34m.\u001b[0m\u001b[0mmessage\u001b[0m\u001b[0;34m)\u001b[0m\u001b[0;34m\u001b[0m\u001b[0m\n",
      "\u001b[0;32m~/anaconda/envs/language-translation/lib/python3.6/site-packages/tensorflow/python/client/session.py\u001b[0m in \u001b[0;36m_run_fn\u001b[0;34m(session, feed_dict, fetch_list, target_list, options, run_metadata)\u001b[0m\n\u001b[1;32m   1019\u001b[0m         return tf_session.TF_Run(session, options,\n\u001b[1;32m   1020\u001b[0m                                  \u001b[0mfeed_dict\u001b[0m\u001b[0;34m,\u001b[0m \u001b[0mfetch_list\u001b[0m\u001b[0;34m,\u001b[0m \u001b[0mtarget_list\u001b[0m\u001b[0;34m,\u001b[0m\u001b[0;34m\u001b[0m\u001b[0m\n\u001b[0;32m-> 1021\u001b[0;31m                                  status, run_metadata)\n\u001b[0m\u001b[1;32m   1022\u001b[0m \u001b[0;34m\u001b[0m\u001b[0m\n\u001b[1;32m   1023\u001b[0m     \u001b[0;32mdef\u001b[0m \u001b[0m_prun_fn\u001b[0m\u001b[0;34m(\u001b[0m\u001b[0msession\u001b[0m\u001b[0;34m,\u001b[0m \u001b[0mhandle\u001b[0m\u001b[0;34m,\u001b[0m \u001b[0mfeed_dict\u001b[0m\u001b[0;34m,\u001b[0m \u001b[0mfetch_list\u001b[0m\u001b[0;34m)\u001b[0m\u001b[0;34m:\u001b[0m\u001b[0;34m\u001b[0m\u001b[0m\n",
      "\u001b[0;31mKeyboardInterrupt\u001b[0m: "
     ]
    }
   ],
   "source": [
    "\"\"\"\n",
    "DON'T MODIFY ANYTHING IN THIS CELL\n",
    "\"\"\"\n",
    "def get_accuracy(target, logits):\n",
    "    \"\"\"\n",
    "    Calculate accuracy\n",
    "    \"\"\"\n",
    "    max_seq = max(target.shape[1], logits.shape[1])\n",
    "    if max_seq - target.shape[1]:\n",
    "        target = np.pad(\n",
    "            target,\n",
    "            [(0,0),(0,max_seq - target.shape[1])],\n",
    "            'constant')\n",
    "    if max_seq - logits.shape[1]:\n",
    "        logits = np.pad(\n",
    "            logits,\n",
    "            [(0,0),(0,max_seq - logits.shape[1])],\n",
    "            'constant')\n",
    "\n",
    "    return np.mean(np.equal(target, logits))\n",
    "\n",
    "# Split data to training and validation sets\n",
    "train_source = source_int_text[batch_size:]\n",
    "train_target = target_int_text[batch_size:]\n",
    "valid_source = source_int_text[:batch_size]\n",
    "valid_target = target_int_text[:batch_size]\n",
    "(valid_sources_batch, valid_targets_batch, valid_sources_lengths, valid_targets_lengths ) = next(get_batches(valid_source,\n",
    "                                                                                                             valid_target,\n",
    "                                                                                                             batch_size,\n",
    "                                                                                                             source_vocab_to_int['<PAD>'],\n",
    "                                                                                                             target_vocab_to_int['<PAD>']))                                                                                                  \n",
    "with tf.Session(graph=train_graph) as sess:\n",
    "    sess.run(tf.global_variables_initializer())\n",
    "\n",
    "    for epoch_i in range(epochs):\n",
    "        for batch_i, (source_batch, target_batch, sources_lengths, targets_lengths) in enumerate(\n",
    "                get_batches(train_source, train_target, batch_size,\n",
    "                            source_vocab_to_int['<PAD>'],\n",
    "                            target_vocab_to_int['<PAD>'])):\n",
    "\n",
    "            _, loss = sess.run(\n",
    "                [train_op, cost],\n",
    "                {input_data: source_batch,\n",
    "                 targets: target_batch,\n",
    "                 lr: learning_rate,\n",
    "                 target_sequence_length: targets_lengths,\n",
    "                 source_sequence_length: sources_lengths,\n",
    "                 keep_prob: keep_probability})\n",
    "\n",
    "\n",
    "            if batch_i % display_step == 0 and batch_i > 0:\n",
    "\n",
    "\n",
    "                batch_train_logits = sess.run(\n",
    "                    inference_logits,\n",
    "                    {input_data: source_batch,\n",
    "                     source_sequence_length: sources_lengths,\n",
    "                     target_sequence_length: targets_lengths,\n",
    "                     keep_prob: 1.0})\n",
    "\n",
    "\n",
    "                batch_valid_logits = sess.run(\n",
    "                    inference_logits,\n",
    "                    {input_data: valid_sources_batch,\n",
    "                     source_sequence_length: valid_sources_lengths,\n",
    "                     target_sequence_length: valid_targets_lengths,\n",
    "                     keep_prob: 1.0})\n",
    "\n",
    "                train_acc = get_accuracy(target_batch, batch_train_logits)\n",
    "\n",
    "                valid_acc = get_accuracy(valid_targets_batch, batch_valid_logits)\n",
    "\n",
    "                print('Epoch {:>3} Batch {:>4}/{} - Train Accuracy: {:>6.4f}, Validation Accuracy: {:>6.4f}, Loss: {:>6.4f}'\n",
    "                      .format(epoch_i, batch_i, len(source_int_text) // batch_size, train_acc, valid_acc, loss))\n",
    "\n",
    "    # Save Model\n",
    "    saver = tf.train.Saver()\n",
    "    saver.save(sess, save_path)\n",
    "    print('Model Trained and Saved')"
   ]
  },
  {
   "cell_type": "markdown",
   "metadata": {},
   "source": [
    "### Save Parameters\n",
    "Save the `batch_size` and `save_path` parameters for inference."
   ]
  },
  {
   "cell_type": "code",
   "execution_count": null,
   "metadata": {
    "collapsed": true
   },
   "outputs": [],
   "source": [
    "\"\"\"\n",
    "DON'T MODIFY ANYTHING IN THIS CELL\n",
    "\"\"\"\n",
    "# Save parameters for checkpoint\n",
    "helper.save_params(save_path)"
   ]
  },
  {
   "cell_type": "markdown",
   "metadata": {},
   "source": [
    "# Checkpoint"
   ]
  },
  {
   "cell_type": "code",
   "execution_count": null,
   "metadata": {
    "collapsed": true
   },
   "outputs": [],
   "source": [
    "\"\"\"\n",
    "DON'T MODIFY ANYTHING IN THIS CELL\n",
    "\"\"\"\n",
    "import tensorflow as tf\n",
    "import numpy as np\n",
    "import helper\n",
    "import problem_unittests as tests\n",
    "\n",
    "_, (source_vocab_to_int, target_vocab_to_int), (source_int_to_vocab, target_int_to_vocab) = helper.load_preprocess()\n",
    "load_path = helper.load_params()"
   ]
  },
  {
   "cell_type": "markdown",
   "metadata": {},
   "source": [
    "## Sentence to Sequence\n",
    "To feed a sentence into the model for translation, you first need to preprocess it.  Implement the function `sentence_to_seq()` to preprocess new sentences.\n",
    "\n",
    "- Convert the sentence to lowercase\n",
    "- Convert words into ids using `vocab_to_int`\n",
    " - Convert words not in the vocabulary, to the `<UNK>` word id."
   ]
  },
  {
   "cell_type": "code",
   "execution_count": null,
   "metadata": {
    "collapsed": true
   },
   "outputs": [],
   "source": [
    "def sentence_to_seq(sentence, vocab_to_int):\n",
    "    \"\"\"\n",
    "    Convert a sentence to a sequence of ids\n",
    "    :param sentence: String\n",
    "    :param vocab_to_int: Dictionary to go from the words to an id\n",
    "    :return: List of word ids\n",
    "    \"\"\"\n",
    "    # TODO: Implement Function\n",
    "    return None\n",
    "\n",
    "\n",
    "\"\"\"\n",
    "DON'T MODIFY ANYTHING IN THIS CELL THAT IS BELOW THIS LINE\n",
    "\"\"\"\n",
    "tests.test_sentence_to_seq(sentence_to_seq)"
   ]
  },
  {
   "cell_type": "markdown",
   "metadata": {},
   "source": [
    "## Translate\n",
    "This will translate `translate_sentence` from English to French."
   ]
  },
  {
   "cell_type": "code",
   "execution_count": null,
   "metadata": {
    "collapsed": true
   },
   "outputs": [],
   "source": [
    "translate_sentence = 'he saw a old yellow truck .'\n",
    "\n",
    "\n",
    "\"\"\"\n",
    "DON'T MODIFY ANYTHING IN THIS CELL\n",
    "\"\"\"\n",
    "translate_sentence = sentence_to_seq(translate_sentence, source_vocab_to_int)\n",
    "\n",
    "loaded_graph = tf.Graph()\n",
    "with tf.Session(graph=loaded_graph) as sess:\n",
    "    # Load saved model\n",
    "    loader = tf.train.import_meta_graph(load_path + '.meta')\n",
    "    loader.restore(sess, load_path)\n",
    "\n",
    "    input_data = loaded_graph.get_tensor_by_name('input:0')\n",
    "    logits = loaded_graph.get_tensor_by_name('predictions:0')\n",
    "    target_sequence_length = loaded_graph.get_tensor_by_name('target_sequence_length:0')\n",
    "    source_sequence_length = loaded_graph.get_tensor_by_name('source_sequence_length:0')\n",
    "    keep_prob = loaded_graph.get_tensor_by_name('keep_prob:0')\n",
    "\n",
    "    translate_logits = sess.run(logits, {input_data: [translate_sentence]*batch_size,\n",
    "                                         target_sequence_length: [len(translate_sentence)*2]*batch_size,\n",
    "                                         source_sequence_length: [len(translate_sentence)]*batch_size,\n",
    "                                         keep_prob: 1.0})[0]\n",
    "\n",
    "print('Input')\n",
    "print('  Word Ids:      {}'.format([i for i in translate_sentence]))\n",
    "print('  English Words: {}'.format([source_int_to_vocab[i] for i in translate_sentence]))\n",
    "\n",
    "print('\\nPrediction')\n",
    "print('  Word Ids:      {}'.format([i for i in translate_logits]))\n",
    "print('  French Words: {}'.format(\" \".join([target_int_to_vocab[i] for i in translate_logits])))\n"
   ]
  },
  {
   "cell_type": "markdown",
   "metadata": {},
   "source": [
    "## Imperfect Translation\n",
    "You might notice that some sentences translate better than others.  Since the dataset you're using only has a vocabulary of 227 English words of the thousands that you use, you're only going to see good results using these words.  For this project, you don't need a perfect translation. However, if you want to create a better translation model, you'll need better data.\n",
    "\n",
    "You can train on the [WMT10 French-English corpus](http://www.statmt.org/wmt10/training-giga-fren.tar).  This dataset has more vocabulary and richer in topics discussed.  However, this will take you days to train, so make sure you've a GPU and the neural network is performing well on dataset we provided.  Just make sure you play with the WMT10 corpus after you've submitted this project.\n",
    "## Submitting This Project\n",
    "When submitting this project, make sure to run all the cells before saving the notebook. Save the notebook file as \"dlnd_language_translation.ipynb\" and save it as a HTML file under \"File\" -> \"Download as\". Include the \"helper.py\" and \"problem_unittests.py\" files in your submission."
   ]
  }
 ],
 "metadata": {
  "anaconda-cloud": {},
  "kernelspec": {
   "display_name": "Python 3",
   "language": "python",
   "name": "python3"
  },
  "language_info": {
   "codemirror_mode": {
    "name": "ipython",
    "version": 3
   },
   "file_extension": ".py",
   "mimetype": "text/x-python",
   "name": "python",
   "nbconvert_exporter": "python",
   "pygments_lexer": "ipython3",
   "version": "3.6.1"
  }
 },
 "nbformat": 4,
 "nbformat_minor": 1
}
